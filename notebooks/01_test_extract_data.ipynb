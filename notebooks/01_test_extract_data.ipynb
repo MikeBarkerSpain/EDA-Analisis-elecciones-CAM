{
 "metadata": {
  "language_info": {
   "codemirror_mode": {
    "name": "ipython",
    "version": 3
   },
   "file_extension": ".py",
   "mimetype": "text/x-python",
   "name": "python",
   "nbconvert_exporter": "python",
   "pygments_lexer": "ipython3",
   "version": "3.7.4"
  },
  "orig_nbformat": 2,
  "kernelspec": {
   "name": "python374jvsc74a57bd093959734c7fb7f2dc7760fccbd71d0356ba421f29bb59ffa607c9608db7abb2a",
   "display_name": "Python 3.7.4 64-bit"
  },
  "metadata": {
   "interpreter": {
    "hash": "93959734c7fb7f2dc7760fccbd71d0356ba421f29bb59ffa607c9608db7abb2a"
   }
  }
 },
 "nbformat": 4,
 "nbformat_minor": 2,
 "cells": [
  {
   "cell_type": "code",
   "execution_count": 1,
   "metadata": {},
   "outputs": [],
   "source": [
    "# Importamos librerías\n",
    "import requests\n",
    "from bs4 import BeautifulSoup\n",
    "import pandas as pd\n",
    "import html\n",
    "import numpy as np\n",
    "import lxml"
   ]
  },
  {
   "cell_type": "code",
   "execution_count": 13,
   "metadata": {},
   "outputs": [],
   "source": [
    "# Accedemos al contenido de cada página (elecciones 2021 y 2019) de cada municipio (desde el 01 al 173)\n",
    "#2021\n",
    "URL_2021 = 'https://rsl00.epimg.net/elecciones/2021/autonomicas/12/28/01.xml2'\n",
    "r_2021 = requests.get (URL_2021)\n",
    "soup_2021 = BeautifulSoup(r_2021.text, 'lxml')\n",
    "\n",
    "#2019\n",
    "URL_2019 = 'https://rsl00.epimg.net/elecciones/2019/autonomicas/12/28/01.xml2'\n",
    "r_2019 = requests.get (URL_2019)\n",
    "soup_2019 = BeautifulSoup(r_2019.text, 'lxml')"
   ]
  },
  {
   "cell_type": "code",
   "execution_count": 14,
   "metadata": {},
   "outputs": [
    {
     "output_type": "execute_result",
     "data": {
      "text/plain": [
       "<?xml version=\"1.0\" encoding=\"UTF-8\" ?><html><body><escrutinio_sitio><porciento_escrutado>100</porciento_escrutado><nombre_sitio>La Acebeda</nombre_sitio><convocatoria>2021</convocatoria><ts>1620168048</ts><tipo_sitio>5</tipo_sitio><votos><contabilizados><cantidad>42</cantidad><porcentaje>82.35</porcentaje></contabilizados><abstenciones><cantidad>9</cantidad><porcentaje>17.65</porcentaje></abstenciones><nulos><cantidad>1</cantidad><porcentaje>2.38</porcentaje></nulos><blancos><cantidad>0</cantidad><porcentaje>0</porcentaje></blancos></votos><resultados><numero_partidos>6</numero_partidos><partido><id_partido>15</id_partido><nombre>PP</nombre><votos_numero>23</votos_numero><votos_porciento>56.1</votos_porciento></partido><partido><id_partido>16</id_partido><nombre>PSOE</nombre><votos_numero>7</votos_numero><votos_porciento>17.07</votos_porciento></partido><partido><id_partido>13</id_partido><nombre>PODEMOS-IU</nombre><votos_numero>6</votos_numero><votos_porciento>14.63</votos_porciento></partido><partido><id_partido>5</id_partido><nombre>MÁS MADRID</nombre><votos_numero>3</votos_numero><votos_porciento>7.32</votos_porciento></partido><partido><id_partido>2</id_partido><nombre>Cs</nombre><votos_numero>1</votos_numero><votos_porciento>2.44</votos_porciento></partido><partido><id_partido>23</id_partido><nombre>VOX</nombre><votos_numero>1</votos_numero><votos_porciento>2.44</votos_porciento></partido></resultados></escrutinio_sitio></body></html>"
      ]
     },
     "metadata": {},
     "execution_count": 14
    }
   ],
   "source": [
    "soup_2021"
   ]
  },
  {
   "cell_type": "code",
   "execution_count": 15,
   "metadata": {},
   "outputs": [
    {
     "output_type": "execute_result",
     "data": {
      "text/plain": [
       "<?xml version=\"1.0\" encoding=\"UTF-8\" ?><html><body><escrutinio_sitio><porciento_escrutado>100</porciento_escrutado><nombre_sitio>La Acebeda</nombre_sitio><convocatoria>2019</convocatoria><ts>1558955321</ts><tipo_sitio>5</tipo_sitio><votos><contabilizados><cantidad>70</cantidad><porcentaje>90.91</porcentaje></contabilizados><abstenciones><cantidad>7</cantidad><porcentaje>9.09</porcentaje></abstenciones><nulos><cantidad>3</cantidad><porcentaje>4.29</porcentaje></nulos><blancos><cantidad>0</cantidad><porcentaje>0</porcentaje></blancos></votos><resultados><numero_partidos>6</numero_partidos><partido><id_partido>78</id_partido><nombre>PP</nombre><votos_numero>25</votos_numero><votos_porciento>37.31</votos_porciento></partido><partido><id_partido>18</id_partido><nombre>Cs</nombre><votos_numero>14</votos_numero><votos_porciento>20.9</votos_porciento></partido><partido><id_partido>86</id_partido><nombre>PSOE</nombre><votos_numero>11</votos_numero><votos_porciento>16.42</votos_porciento></partido><partido><id_partido>41</id_partido><nombre>MÁS MADRID</nombre><votos_numero>10</votos_numero><votos_porciento>14.93</votos_porciento></partido><partido><id_partido>74</id_partido><nombre>PODEMOS-IU</nombre><votos_numero>5</votos_numero><votos_porciento>7.46</votos_porciento></partido><partido><id_partido>104</id_partido><nombre>VOX</nombre><votos_numero>2</votos_numero><votos_porciento>2.99</votos_porciento></partido></resultados></escrutinio_sitio></body></html>"
      ]
     },
     "metadata": {},
     "execution_count": 15
    }
   ],
   "source": [
    "soup_2019"
   ]
  },
  {
   "cell_type": "code",
   "execution_count": 23,
   "metadata": {},
   "outputs": [
    {
     "output_type": "execute_result",
     "data": {
      "text/plain": [
       "'La Acebeda'"
      ]
     },
     "metadata": {},
     "execution_count": 23
    }
   ],
   "source": [
    "\n",
    "municipio = soup_2021.find('nombre_sitio').text\n",
    "municipio"
   ]
  },
  {
   "cell_type": "code",
   "execution_count": 28,
   "metadata": {},
   "outputs": [
    {
     "output_type": "execute_result",
     "data": {
      "text/plain": [
       "'82.35'"
      ]
     },
     "metadata": {},
     "execution_count": 28
    }
   ],
   "source": [
    "partidos = soup_2021.find('votos').find('contabilizados').find('porcentaje').text\n",
    "partidos"
   ]
  },
  {
   "cell_type": "code",
   "execution_count": 36,
   "metadata": {},
   "outputs": [
    {
     "output_type": "execute_result",
     "data": {
      "text/plain": [
       "{'PP-2021': 56.1,\n",
       " 'PSOE-2021': 17.07,\n",
       " 'PODEMOS-IU-2021': 14.63,\n",
       " 'MÁS MADRID-2021': 7.32,\n",
       " 'Cs-2021': 2.44,\n",
       " 'VOX-2021': 2.44}"
      ]
     },
     "metadata": {},
     "execution_count": 36
    }
   ],
   "source": [
    "partidos = soup_2021.find('resultados').find_all('partido') # se acceden a todos los elementos de la sopa que estén en el tag 'product-image'\n",
    "len(partidos)\n",
    "dict_Municipio = {}\n",
    "for partido in partidos:\n",
    "    nombre_partido = partido.find('nombre').text+'-2021'\n",
    "    porcentaje_partido = float(partido.find('votos_porciento').text)\n",
    "    dict_Municipio[nombre_partido] = porcentaje_partido\n",
    "dict_Municipio"
   ]
  },
  {
   "cell_type": "code",
   "execution_count": 37,
   "metadata": {},
   "outputs": [
    {
     "output_type": "execute_result",
     "data": {
      "text/plain": [
       "{'PP-2021': 56.1,\n",
       " 'PSOE-2021': 17.07,\n",
       " 'PODEMOS-IU-2021': 14.63,\n",
       " 'MÁS MADRID-2021': 7.32,\n",
       " 'Cs-2021': 2.44,\n",
       " 'VOX-2021': 2.44,\n",
       " 'PP-2019': 37.31,\n",
       " 'Cs-2019': 20.9,\n",
       " 'PSOE-2019': 16.42,\n",
       " 'MÁS MADRID-2019': 14.93,\n",
       " 'PODEMOS-IU-2019': 7.46,\n",
       " 'VOX-2019': 2.99}"
      ]
     },
     "metadata": {},
     "execution_count": 37
    }
   ],
   "source": [
    "partidos = soup_2019.find('resultados').find_all('partido') # se acceden a todos los elementos de la sopa que estén en el tag 'product-image'\n",
    "len(partidos)\n",
    "for partido in partidos:\n",
    "    nombre_partido = partido.find('nombre').text+'-2019'\n",
    "    porcentaje_partido = float(partido.find('votos_porciento').text)\n",
    "    dict_Municipio[nombre_partido] = porcentaje_partido\n",
    "dict_Municipio"
   ]
  },
  {
   "cell_type": "code",
   "execution_count": 42,
   "metadata": {},
   "outputs": [
    {
     "output_type": "execute_result",
     "data": {
      "text/plain": [
       "{'PP': 56.1,\n",
       " 'PSOE': 17.07,\n",
       " 'PODEMOS-IU': 14.63,\n",
       " 'MÁS MADRID': 7.32,\n",
       " 'Cs': 2.44,\n",
       " 'VOX': 2.44}"
      ]
     },
     "metadata": {},
     "execution_count": 42
    }
   ],
   "source": [
    "partidos_2021 = soup_2021.find('resultados').find_all('partido') # se acceden a todos los elementos de la sopa que estén en el tag 'product-image'\n",
    "dict_Municipio_2021 = {}\n",
    "for partido in partidos_2021:\n",
    "    nombre_partido = partido.find('nombre').text\n",
    "    porcentaje_partido = float(partido.find('votos_porciento').text)\n",
    "    dict_Municipio_2021[nombre_partido] = porcentaje_partido\n",
    "dict_Municipio_2021"
   ]
  },
  {
   "cell_type": "code",
   "execution_count": 43,
   "metadata": {},
   "outputs": [
    {
     "output_type": "execute_result",
     "data": {
      "text/plain": [
       "{'PP': 37.31,\n",
       " 'Cs': 20.9,\n",
       " 'PSOE': 16.42,\n",
       " 'MÁS MADRID': 14.93,\n",
       " 'PODEMOS-IU': 7.46,\n",
       " 'VOX': 2.99}"
      ]
     },
     "metadata": {},
     "execution_count": 43
    }
   ],
   "source": [
    "partidos_2019 = soup_2019.find('resultados').find_all('partido') # se acceden a todos los elementos de la sopa que estén en el tag 'product-image'\n",
    "dict_Municipio_2019 = {}\n",
    "for partido in partidos_2019:\n",
    "    nombre_partido = partido.find('nombre').text\n",
    "    porcentaje_partido = float(partido.find('votos_porciento').text)\n",
    "    dict_Municipio_2019[nombre_partido] = porcentaje_partido\n",
    "dict_Municipio_2019"
   ]
  },
  {
   "cell_type": "code",
   "execution_count": 45,
   "metadata": {},
   "outputs": [
    {
     "output_type": "stream",
     "name": "stdout",
     "text": [
      "PP\n56.1\n37.31\nPSOE\n17.07\n16.42\nPODEMOS-IU\n14.63\n7.46\nMÁS MADRID\n7.32\n14.93\nCs\n2.44\n20.9\nVOX\n2.44\n2.99\n"
     ]
    }
   ],
   "source": [
    "for key in dict_Municipio_2021:\n",
    "    print(key)\n",
    "    print(dict_Municipio_2021[key])\n",
    "    print(dict_Municipio_2019[key])\n"
   ]
  },
  {
   "cell_type": "code",
   "execution_count": 8,
   "metadata": {},
   "outputs": [
    {
     "output_type": "execute_result",
     "data": {
      "text/plain": [
       "'La Acebeda'"
      ]
     },
     "metadata": {},
     "execution_count": 8
    }
   ],
   "source": [
    "# Obtención de los datos necesarios para montar el dataset Municipio\n",
    "'''\n",
    "Población\n",
    "lon\n",
    "lat\n",
    "Censo\n",
    "Contabilizados\n",
    "% contabilizados\n",
    "Abstenciones\n",
    "% abstenciones\n",
    "Nulos\n",
    "% Nulos\n",
    "Bares y Rest/habitante\n",
    "PP-2021\n",
    "PP-2019\n",
    "PP-Delta\n",
    "PSOE-2021\n",
    "PSOE-2019\n",
    "PSOE-Delta\n",
    "VOX-2021\n",
    "VOX-2019\n",
    "VOX-Delta\n",
    "MÁS MADRID-2021\n",
    "MÁS MADRID-2019\n",
    "MÁS MADRID-Delta\n",
    "PODEMOS-IU -2021\n",
    "PODEMOS-IU -2019\n",
    "PODEMOS-IU  -Delta'''"
   ]
  },
  {
   "cell_type": "code",
   "execution_count": null,
   "metadata": {},
   "outputs": [],
   "source": []
  }
 ]
}